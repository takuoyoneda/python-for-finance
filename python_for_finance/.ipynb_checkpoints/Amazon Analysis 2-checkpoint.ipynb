{
 "cells": [
  {
   "cell_type": "code",
   "execution_count": 1,
   "metadata": {},
   "outputs": [
    {
     "data": {
      "text/html": [
       "<div>\n",
       "<table border=\"1\" class=\"dataframe\">\n",
       "  <thead>\n",
       "    <tr style=\"text-align: right;\">\n",
       "      <th></th>\n",
       "      <th>Open</th>\n",
       "      <th>High</th>\n",
       "      <th>Low</th>\n",
       "      <th>Close</th>\n",
       "      <th>Volume</th>\n",
       "    </tr>\n",
       "    <tr>\n",
       "      <th>Date</th>\n",
       "      <th></th>\n",
       "      <th></th>\n",
       "      <th></th>\n",
       "      <th></th>\n",
       "      <th></th>\n",
       "    </tr>\n",
       "  </thead>\n",
       "  <tbody>\n",
       "    <tr>\n",
       "      <th>2001-07-27</th>\n",
       "      <td>12.33</td>\n",
       "      <td>12.43</td>\n",
       "      <td>11.70</td>\n",
       "      <td>12.25</td>\n",
       "      <td>8905600</td>\n",
       "    </tr>\n",
       "    <tr>\n",
       "      <th>2001-07-30</th>\n",
       "      <td>12.21</td>\n",
       "      <td>12.75</td>\n",
       "      <td>11.98</td>\n",
       "      <td>12.55</td>\n",
       "      <td>4930900</td>\n",
       "    </tr>\n",
       "    <tr>\n",
       "      <th>2001-07-31</th>\n",
       "      <td>12.64</td>\n",
       "      <td>12.86</td>\n",
       "      <td>12.33</td>\n",
       "      <td>12.49</td>\n",
       "      <td>4286800</td>\n",
       "    </tr>\n",
       "    <tr>\n",
       "      <th>2001-08-01</th>\n",
       "      <td>12.73</td>\n",
       "      <td>12.86</td>\n",
       "      <td>12.17</td>\n",
       "      <td>12.50</td>\n",
       "      <td>5432100</td>\n",
       "    </tr>\n",
       "    <tr>\n",
       "      <th>2001-08-02</th>\n",
       "      <td>12.59</td>\n",
       "      <td>12.60</td>\n",
       "      <td>12.10</td>\n",
       "      <td>12.19</td>\n",
       "      <td>3832700</td>\n",
       "    </tr>\n",
       "  </tbody>\n",
       "</table>\n",
       "</div>"
      ],
      "text/plain": [
       "             Open   High    Low  Close   Volume\n",
       "Date                                           \n",
       "2001-07-27  12.33  12.43  11.70  12.25  8905600\n",
       "2001-07-30  12.21  12.75  11.98  12.55  4930900\n",
       "2001-07-31  12.64  12.86  12.33  12.49  4286800\n",
       "2001-08-01  12.73  12.86  12.17  12.50  5432100\n",
       "2001-08-02  12.59  12.60  12.10  12.19  3832700"
      ]
     },
     "execution_count": 1,
     "metadata": {},
     "output_type": "execute_result"
    }
   ],
   "source": [
    "import numpy as np\n",
    "from pandas_datareader import data as wb\n",
    "import matplotlib.pyplot as plt\n",
    "\n",
    "AMZN = wb.DataReader('AMZN', data_source='google', start='2000-1-1')\n",
    "\n",
    "AMZN.head()"
   ]
  },
  {
   "cell_type": "code",
   "execution_count": 2,
   "metadata": {},
   "outputs": [
    {
     "data": {
      "text/html": [
       "<div>\n",
       "<table border=\"1\" class=\"dataframe\">\n",
       "  <thead>\n",
       "    <tr style=\"text-align: right;\">\n",
       "      <th></th>\n",
       "      <th>Open</th>\n",
       "      <th>High</th>\n",
       "      <th>Low</th>\n",
       "      <th>Close</th>\n",
       "      <th>Volume</th>\n",
       "    </tr>\n",
       "    <tr>\n",
       "      <th>Date</th>\n",
       "      <th></th>\n",
       "      <th></th>\n",
       "      <th></th>\n",
       "      <th></th>\n",
       "      <th></th>\n",
       "    </tr>\n",
       "  </thead>\n",
       "  <tbody>\n",
       "    <tr>\n",
       "      <th>2017-06-16</th>\n",
       "      <td>996.00</td>\n",
       "      <td>999.75</td>\n",
       "      <td>982.00</td>\n",
       "      <td>987.71</td>\n",
       "      <td>11472662</td>\n",
       "    </tr>\n",
       "    <tr>\n",
       "      <th>2017-06-19</th>\n",
       "      <td>1017.00</td>\n",
       "      <td>1017.00</td>\n",
       "      <td>989.90</td>\n",
       "      <td>995.17</td>\n",
       "      <td>5043408</td>\n",
       "    </tr>\n",
       "    <tr>\n",
       "      <th>2017-06-20</th>\n",
       "      <td>998.00</td>\n",
       "      <td>1004.88</td>\n",
       "      <td>992.02</td>\n",
       "      <td>992.59</td>\n",
       "      <td>4076828</td>\n",
       "    </tr>\n",
       "    <tr>\n",
       "      <th>2017-06-21</th>\n",
       "      <td>998.70</td>\n",
       "      <td>1002.72</td>\n",
       "      <td>992.65</td>\n",
       "      <td>1002.23</td>\n",
       "      <td>2922473</td>\n",
       "    </tr>\n",
       "    <tr>\n",
       "      <th>2017-06-22</th>\n",
       "      <td>1002.23</td>\n",
       "      <td>1006.96</td>\n",
       "      <td>997.20</td>\n",
       "      <td>1001.30</td>\n",
       "      <td>2253433</td>\n",
       "    </tr>\n",
       "  </tbody>\n",
       "</table>\n",
       "</div>"
      ],
      "text/plain": [
       "               Open     High     Low    Close    Volume\n",
       "Date                                                   \n",
       "2017-06-16   996.00   999.75  982.00   987.71  11472662\n",
       "2017-06-19  1017.00  1017.00  989.90   995.17   5043408\n",
       "2017-06-20   998.00  1004.88  992.02   992.59   4076828\n",
       "2017-06-21   998.70  1002.72  992.65  1002.23   2922473\n",
       "2017-06-22  1002.23  1006.96  997.20  1001.30   2253433"
      ]
     },
     "execution_count": 2,
     "metadata": {},
     "output_type": "execute_result"
    }
   ],
   "source": [
    "AMZN.tail()"
   ]
  },
  {
   "cell_type": "code",
   "execution_count": 3,
   "metadata": {},
   "outputs": [
    {
     "name": "stdout",
     "output_type": "stream",
     "text": [
      "Date\n",
      "2001-07-27         NaN\n",
      "2001-07-30    0.024490\n",
      "2001-07-31   -0.004781\n",
      "2001-08-01    0.000801\n",
      "2001-08-02   -0.024800\n",
      "2001-08-03   -0.003281\n",
      "2001-08-06   -0.020576\n",
      "2001-08-07   -0.025210\n",
      "2001-08-08   -0.042241\n",
      "2001-08-09   -0.058506\n",
      "2001-08-10   -0.048757\n",
      "2001-08-13    0.017085\n",
      "2001-08-14    0.040514\n",
      "2001-08-15   -0.042735\n",
      "2001-08-16   -0.026786\n",
      "2001-08-17    0.018349\n",
      "2001-08-20    0.041041\n",
      "2001-08-21   -0.049038\n",
      "2001-08-22    0.031345\n",
      "2001-08-23   -0.055882\n",
      "2001-08-24    0.062305\n",
      "2001-08-27   -0.009775\n",
      "2001-08-28   -0.015795\n",
      "2001-08-29   -0.078235\n",
      "2001-08-30   -0.054407\n",
      "2001-08-31    0.028769\n",
      "2001-09-04   -0.039150\n",
      "2001-09-05   -0.109430\n",
      "2001-09-06    0.065359\n",
      "2001-09-07    0.044172\n",
      "                ...   \n",
      "2017-05-11   -0.001402\n",
      "2017-05-12    0.014489\n",
      "2017-05-15   -0.003516\n",
      "2017-05-16    0.008455\n",
      "2017-05-17   -0.022058\n",
      "2017-05-18    0.014533\n",
      "2017-05-19    0.001408\n",
      "2017-05-22    0.011283\n",
      "2017-05-23    0.000896\n",
      "2017-05-24    0.009068\n",
      "2017-05-25    0.013291\n",
      "2017-05-26    0.002416\n",
      "2017-05-30    0.000924\n",
      "2017-05-31   -0.002087\n",
      "2017-06-01    0.001337\n",
      "2017-06-02    0.010824\n",
      "2017-06-05    0.004579\n",
      "2017-06-06   -0.008246\n",
      "2017-06-07    0.007049\n",
      "2017-06-08    0.000198\n",
      "2017-06-09   -0.031635\n",
      "2017-06-12   -0.013697\n",
      "2017-06-13    0.016457\n",
      "2017-06-14   -0.004405\n",
      "2017-06-15   -0.012596\n",
      "2017-06-16    0.024415\n",
      "2017-06-19    0.007553\n",
      "2017-06-20   -0.002593\n",
      "2017-06-21    0.009712\n",
      "2017-06-22   -0.000928\n",
      "Name: simple_return, dtype: float64\n"
     ]
    }
   ],
   "source": [
    "AMZN['simple_return'] = (AMZN['Close'] / AMZN['Close'].shift(1)) - 1\n",
    "print (AMZN['simple_return'])"
   ]
  },
  {
   "cell_type": "code",
   "execution_count": 4,
   "metadata": {},
   "outputs": [
    {
     "data": {
      "image/png": "[encoded data removed]",
      "text/plain": [
       "<matplotlib.figure.Figure at 0x9783e48>"
      ]
     },
     "metadata": {},
     "output_type": "display_data"
    }
   ],
   "source": [
    "AMZN['simple_return'].plot(figsize=(8,5))\n",
    "plt.show()"
   ]
  },
  {
   "cell_type": "code",
   "execution_count": 7,
   "metadata": {},
   "outputs": [
    {
     "data": {
      "text/plain": [
       "0.0015227316087328285"
      ]
     },
     "execution_count": 7,
     "metadata": {},
     "output_type": "execute_result"
    }
   ],
   "source": [
    "avg_returns_d = AMZN['simple_return'].mean()\n",
    "avg_returns_d"
   ]
  },
  {
   "cell_type": "code",
   "execution_count": 8,
   "metadata": {},
   "outputs": [
    {
     "data": {
      "text/plain": [
       "0.3806829021832071"
      ]
     },
     "execution_count": 8,
     "metadata": {},
     "output_type": "execute_result"
    }
   ],
   "source": [
    "avg_returns_a = AMZN['simple_return'].mean() * 250\n",
    "avg_returns_a"
   ]
  },
  {
   "cell_type": "code",
   "execution_count": 10,
   "metadata": {},
   "outputs": [
    {
     "name": "stdout",
     "output_type": "stream",
     "text": [
      "38.068000000000005 %\n"
     ]
    }
   ],
   "source": [
    "print (str(round(avg_returns_a, 5) * 100) + ' %')"
   ]
  },
  {
   "cell_type": "code",
   "execution_count": 11,
   "metadata": {},
   "outputs": [
    {
     "name": "stdout",
     "output_type": "stream",
     "text": [
      "Date\n",
      "2001-07-27         NaN\n",
      "2001-07-30    0.024195\n",
      "2001-07-31   -0.004792\n",
      "2001-08-01    0.000800\n",
      "2001-08-02   -0.025113\n",
      "2001-08-03   -0.003287\n",
      "2001-08-06   -0.020791\n",
      "2001-08-07   -0.025533\n",
      "2001-08-08   -0.043159\n",
      "2001-08-09   -0.060287\n",
      "2001-08-10   -0.049986\n",
      "2001-08-13    0.016941\n",
      "2001-08-14    0.039715\n",
      "2001-08-15   -0.043675\n",
      "2001-08-16   -0.027151\n",
      "2001-08-17    0.018182\n",
      "2001-08-20    0.040221\n",
      "2001-08-21   -0.050282\n",
      "2001-08-22    0.030864\n",
      "2001-08-23   -0.057504\n",
      "2001-08-24    0.060441\n",
      "2001-08-27   -0.009823\n",
      "2001-08-28   -0.015921\n",
      "2001-08-29   -0.081465\n",
      "2001-08-30   -0.055943\n",
      "2001-08-31    0.028363\n",
      "2001-09-04   -0.039937\n",
      "2001-09-05   -0.115893\n",
      "2001-09-06    0.063312\n",
      "2001-09-07    0.043224\n",
      "                ...   \n",
      "2017-05-11   -0.001403\n",
      "2017-05-12    0.014385\n",
      "2017-05-15   -0.003522\n",
      "2017-05-16    0.008420\n",
      "2017-05-17   -0.022305\n",
      "2017-05-18    0.014428\n",
      "2017-05-19    0.001407\n",
      "2017-05-22    0.011220\n",
      "2017-05-23    0.000896\n",
      "2017-05-24    0.009027\n",
      "2017-05-25    0.013204\n",
      "2017-05-26    0.002413\n",
      "2017-05-30    0.000923\n",
      "2017-05-31   -0.002089\n",
      "2017-06-01    0.001336\n",
      "2017-06-02    0.010766\n",
      "2017-06-05    0.004569\n",
      "2017-06-06   -0.008281\n",
      "2017-06-07    0.007024\n",
      "2017-06-08    0.000198\n",
      "2017-06-09   -0.032146\n",
      "2017-06-12   -0.013792\n",
      "2017-06-13    0.016324\n",
      "2017-06-14   -0.004414\n",
      "2017-06-15   -0.012676\n",
      "2017-06-16    0.024122\n",
      "2017-06-19    0.007524\n",
      "2017-06-20   -0.002596\n",
      "2017-06-21    0.009665\n",
      "2017-06-22   -0.000928\n",
      "Name: log_return, dtype: float64\n"
     ]
    }
   ],
   "source": [
    "AMZN['log_return'] = np.log(AMZN['Close'] / AMZN['Close'].shift(1))\n",
    "print (AMZN['log_return'])"
   ]
  },
  {
   "cell_type": "code",
   "execution_count": 12,
   "metadata": {},
   "outputs": [
    {
     "data": {
      "image/png": "[encoded data removed]",
      "text/plain": [
       "<matplotlib.figure.Figure at 0x9b07e48>"
      ]
     },
     "metadata": {},
     "output_type": "display_data"
    }
   ],
   "source": [
    "AMZN['Close'].plot(figsize=(8,5))\n",
    "plt.show()"
   ]
  },
  {
   "cell_type": "code",
   "execution_count": null,
   "metadata": {
    "collapsed": true
   },
   "outputs": [],
   "source": []
  }
 ],
 "metadata": {
  "kernelspec": {
   "display_name": "Python 3",
   "language": "python",
   "name": "python3"
  },
  "language_info": {
   "codemirror_mode": {
    "name": "ipython",
    "version": 3
   },
   "file_extension": ".py",
   "mimetype": "text/x-python",
   "name": "python",
   "nbconvert_exporter": "python",
   "pygments_lexer": "ipython3",
   "version": "3.6.0"
  }
 },
 "nbformat": 4,
 "nbformat_minor": 2
}
